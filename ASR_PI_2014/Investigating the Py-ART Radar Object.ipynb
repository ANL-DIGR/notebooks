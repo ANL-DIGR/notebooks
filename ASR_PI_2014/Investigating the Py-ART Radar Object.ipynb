{
 "metadata": {
  "name": ""
 },
 "nbformat": 3,
 "nbformat_minor": 0,
 "worksheets": [
  {
   "cells": [
    {
     "cell_type": "markdown",
     "metadata": {},
     "source": [
      "This notebook explores the data model used for pointing radar data in the Python ARM Radar Toolkit (Py-ART). We will do this by loading a radar file from CF-Radial from ARM's X-Band system in the North Slope of Alaska Barrow site.\n",
      "\n",
      "Go fetch the data from <a href = 'https://engineering.arm.gov/~jhelmus/sample_xsapr_a1_files/2013_12_03_NSA/nsaxsaprrhiC1.a1/nsaxsaprrhiC1.a1.20131203.141936.nc'> HERE </a> and place it in data_dir and change the variable. "
     ]
    },
    {
     "cell_type": "code",
     "collapsed": false,
     "input": [
      "#first import!\n",
      "import pyart\n",
      "from matplotlib import pyplot as plt\n",
      "%matplotlib inline\n",
      "data_dir = '/data/'\n",
      "filename = 'nsaxsaprrhiC1.a1.20131203.141936.nc'\n",
      "fqfn = data_dir + filename\n"
     ],
     "language": "python",
     "metadata": {},
     "outputs": [],
     "prompt_number": 2
    },
    {
     "cell_type": "markdown",
     "metadata": {},
     "source": [
      "Read the CF-Radial file into Py-ART's data model for pointing gated data"
     ]
    },
    {
     "cell_type": "code",
     "collapsed": false,
     "input": [
      "radar = pyart.io.read(fqfn)"
     ],
     "language": "python",
     "metadata": {},
     "outputs": [
      {
       "ename": "IOError",
       "evalue": "[Errno 2] No such file or directory: '/data/nsaxsaprrhiC1.a1.20131203.141936.nc'",
       "output_type": "pyerr",
       "traceback": [
        "\u001b[0;31m---------------------------------------------------------------------------\u001b[0m\n\u001b[0;31mIOError\u001b[0m                                   Traceback (most recent call last)",
        "\u001b[0;32m<ipython-input-3-2938f8d0fdf3>\u001b[0m in \u001b[0;36m<module>\u001b[0;34m()\u001b[0m\n\u001b[0;32m----> 1\u001b[0;31m \u001b[0mradar\u001b[0m \u001b[0;34m=\u001b[0m \u001b[0mpyart\u001b[0m\u001b[0;34m.\u001b[0m\u001b[0mio\u001b[0m\u001b[0;34m.\u001b[0m\u001b[0mread\u001b[0m\u001b[0;34m(\u001b[0m\u001b[0mfqfn\u001b[0m\u001b[0;34m)\u001b[0m\u001b[0;34m\u001b[0m\u001b[0m\n\u001b[0m",
        "\u001b[0;32m/Users/scollis/anaconda/lib/python2.7/site-packages/pyart/io/auto_read.pyc\u001b[0m in \u001b[0;36mread\u001b[0;34m(filename, use_rsl, **kwargs)\u001b[0m\n\u001b[1;32m     73\u001b[0m \u001b[0;34m\u001b[0m\u001b[0m\n\u001b[1;32m     74\u001b[0m     \"\"\"\n\u001b[0;32m---> 75\u001b[0;31m     \u001b[0mfiletype\u001b[0m \u001b[0;34m=\u001b[0m \u001b[0mdetermine_filetype\u001b[0m\u001b[0;34m(\u001b[0m\u001b[0mfilename\u001b[0m\u001b[0;34m)\u001b[0m\u001b[0;34m\u001b[0m\u001b[0m\n\u001b[0m\u001b[1;32m     76\u001b[0m \u001b[0;34m\u001b[0m\u001b[0m\n\u001b[1;32m     77\u001b[0m     \u001b[0;31m# Bzip, uncompress and see if we can determine the type\u001b[0m\u001b[0;34m\u001b[0m\u001b[0;34m\u001b[0m\u001b[0m\n",
        "\u001b[0;32m/Users/scollis/anaconda/lib/python2.7/site-packages/pyart/io/auto_read.pyc\u001b[0m in \u001b[0;36mdetermine_filetype\u001b[0;34m(filename)\u001b[0m\n\u001b[1;32m    146\u001b[0m     \u001b[0;31m# read the first 12 bytes from the file\u001b[0m\u001b[0;34m\u001b[0m\u001b[0;34m\u001b[0m\u001b[0m\n\u001b[1;32m    147\u001b[0m     \u001b[0;32mtry\u001b[0m\u001b[0;34m:\u001b[0m\u001b[0;34m\u001b[0m\u001b[0m\n\u001b[0;32m--> 148\u001b[0;31m         \u001b[0mf\u001b[0m \u001b[0;34m=\u001b[0m \u001b[0mopen\u001b[0m\u001b[0;34m(\u001b[0m\u001b[0mfilename\u001b[0m\u001b[0;34m,\u001b[0m \u001b[0;34m'rb'\u001b[0m\u001b[0;34m)\u001b[0m\u001b[0;34m\u001b[0m\u001b[0m\n\u001b[0m\u001b[1;32m    149\u001b[0m     \u001b[0;32mexcept\u001b[0m \u001b[0mTypeError\u001b[0m\u001b[0;34m:\u001b[0m\u001b[0;34m\u001b[0m\u001b[0m\n\u001b[1;32m    150\u001b[0m         \u001b[0mf\u001b[0m \u001b[0;34m=\u001b[0m \u001b[0mfilename\u001b[0m\u001b[0;34m\u001b[0m\u001b[0m\n",
        "\u001b[0;31mIOError\u001b[0m: [Errno 2] No such file or directory: '/data/nsaxsaprrhiC1.a1.20131203.141936.nc'"
       ]
      }
     ],
     "prompt_number": 3
    },
    {
     "cell_type": "markdown",
     "metadata": {},
     "source": [
      "Lets investigate what is at the top level with a dir() command "
     ]
    },
    {
     "cell_type": "code",
     "collapsed": false,
     "input": [
      "print( dir(radar) )"
     ],
     "language": "python",
     "metadata": {},
     "outputs": []
    },
    {
     "cell_type": "markdown",
     "metadata": {},
     "source": [
      "Anything in the data model which contains array-like data is a dictionary with metadata and the actual data contained in the 'data' key, for example the array which contains information about the elevation angle of the sensor. "
     ]
    },
    {
     "cell_type": "code",
     "collapsed": false,
     "input": [
      "print( radar.azimuth.keys() ) "
     ],
     "language": "python",
     "metadata": {},
     "outputs": []
    },
    {
     "cell_type": "code",
     "collapsed": false,
     "input": [
      "print( radar.azimuth['standard_name'] )"
     ],
     "language": "python",
     "metadata": {},
     "outputs": []
    },
    {
     "cell_type": "code",
     "collapsed": false,
     "input": [
      "print( radar.azimuth['data'] )"
     ],
     "language": "python",
     "metadata": {},
     "outputs": []
    },
    {
     "cell_type": "code",
     "collapsed": false,
     "input": [
      "f = plt.figure(figsize = [15,8])\n",
      "plt.plot( radar.time['data'], radar.azimuth['data'] )\n",
      "plt.xlabel( radar.time['standard_name'] + ' (' + radar.time['units'] + ')')\n",
      "plt.ylabel( radar.azimuth['standard_name'] + ' (' + radar.azimuth['units'] + ')')"
     ],
     "language": "python",
     "metadata": {},
     "outputs": []
    },
    {
     "cell_type": "markdown",
     "metadata": {},
     "source": [
      "So all the pointing data is contained in the base object, the azimuth and elevation of the antenna/sensor plus the range and time axes"
     ]
    },
    {
     "cell_type": "code",
     "collapsed": false,
     "input": [
      "print( radar.range['data'].min(), radar.range['data'].max(), radar.range['units'])\n",
      "f = plt.figure(figsize = [15,8])\n",
      "plt.plot( radar.time['data'], radar.elevation['data'] )\n",
      "plt.xlabel( radar.time['standard_name'] + ' (' + radar.time['units'] + ')')\n",
      "plt.ylabel( radar.elevation['standard_name'] + ' (' + radar.elevation['units'] + ')')"
     ],
     "language": "python",
     "metadata": {},
     "outputs": []
    },
    {
     "cell_type": "markdown",
     "metadata": {},
     "source": [
      "there is also a swag of metadata contained within, well.. the metadata dictionary"
     ]
    },
    {
     "cell_type": "code",
     "collapsed": false,
     "input": [
      "for mykey in radar.metadata.keys():\n",
      "    print(mykey, ': ' + str(radar.metadata[mykey]))"
     ],
     "language": "python",
     "metadata": {},
     "outputs": []
    },
    {
     "cell_type": "markdown",
     "metadata": {},
     "source": [
      "Now the final top level bit of information, the data model we use follows CF-Radial morphology and hence has a set of \"helper\" fields to format out the radar coverage pattern. That is, to seperate sweeps."
     ]
    },
    {
     "cell_type": "code",
     "collapsed": false,
     "input": [
      "print( radar.sweep_end_ray_index['data'] )\n",
      "f = plt.figure(figsize = [15,8])\n",
      "for i in range(len(radar.sweep_end_ray_index['data'])):\n",
      "    start_index = radar.sweep_start_ray_index['data'][i]\n",
      "    end_index = radar.sweep_end_ray_index['data'][i]\n",
      "    plt.plot(radar.time['data'][start_index:end_index], \n",
      "             radar.elevation['data'][start_index:end_index], \n",
      "             label = 'Sweep number '+ str(radar.sweep_number['data'][i]))\n",
      "plt.legend()\n",
      "plt.xlabel( radar.time['standard_name'] + ' (' + radar.time['units'] + ')')\n",
      "plt.ylabel( radar.elevation['standard_name'] + ' (' + radar.elevation['units'] + ')')\n",
      "    \n",
      "\n",
      "    "
     ],
     "language": "python",
     "metadata": {},
     "outputs": []
    },
    {
     "cell_type": "markdown",
     "metadata": {},
     "source": [
      "Now to the actual data, or what ARM would call Primary Measurements. This is all stored in the field field of the radar object and is a dictionary of dictionaries. Best shown by example:"
     ]
    },
    {
     "cell_type": "code",
     "collapsed": false,
     "input": [
      "print( radar.fields.keys() )\n",
      "for mykey in radar.fields.keys():\n",
      "    print (mykey + ': ' + radar.fields[mykey]['standard_name'] + '(' + radar.fields[mykey]['units'] + ')')"
     ],
     "language": "python",
     "metadata": {},
     "outputs": []
    },
    {
     "cell_type": "markdown",
     "metadata": {},
     "source": [
      "As far as CF-Radial ingest and write is concerned the variable names correspond to the variable names, the non-array data to the variable attributes and the 'data' key to the array.. lets look at some data"
     ]
    },
    {
     "cell_type": "code",
     "collapsed": false,
     "input": [
      "f = plt.figure(figsize = [15,8])\n",
      "my_pc = plt.pcolormesh(radar.range['data'], radar.time['data'],\n",
      "                       radar.fields['reflectivity_horizontal']['data'])\n",
      "plt.xlabel( radar.range['standard_name'] + ' (' + radar.range['units'] + ')')\n",
      "plt.ylabel( radar.time['standard_name'] + ' (' + radar.time['units'] + ')')\n",
      "cb = plt.colorbar(mappable = my_pc)\n",
      "cb.set_label( radar.fields['reflectivity_horizontal']['standard_name'] +\\\n",
      "             ' (' + radar.fields['reflectivity_horizontal']['units'] + ')')\n",
      "    \n"
     ],
     "language": "python",
     "metadata": {},
     "outputs": []
    },
    {
     "cell_type": "markdown",
     "metadata": {},
     "source": [
      "And of course we can use our sweep indicators to isolate a single sweep"
     ]
    },
    {
     "cell_type": "code",
     "collapsed": false,
     "input": [
      "f = plt.figure(figsize = [15,8])\n",
      "start_index = radar.sweep_start_ray_index['data'][0]\n",
      "end_index = radar.sweep_end_ray_index['data'][0]\n",
      "my_pc = plt.pcolormesh(radar.range['data'], radar.time['data'][start_index:end_index],\n",
      "                       radar.fields['reflectivity_horizontal']['data'][start_index:end_index, :])\n",
      "plt.xlabel( radar.range['standard_name'] + ' (' + radar.range['units'] + ')')\n",
      "plt.ylabel( radar.time['standard_name'] + ' (' + radar.time['units'] + ')')\n",
      "cb = plt.colorbar(mappable = my_pc)\n",
      "cb.set_label( radar.fields['reflectivity_horizontal']['standard_name'] +\\\n",
      "             ' (' + radar.fields['reflectivity_horizontal']['units'] + ')')\n",
      "    \n"
     ],
     "language": "python",
     "metadata": {},
     "outputs": []
    },
    {
     "cell_type": "markdown",
     "metadata": {},
     "source": [
      "Thus concludes the intro! Py-ART, of course, can do all this for you including pretty PPIs etc.. but this gives an introduction to the data model we use.  Questions? Comments? Science Lead: <a href = 'mailto:scollis@anl.gov'> Scott Collis</a> Development lead: <a href = 'mailto:jhelmus@anl.gov'>Jonathan Helmus</a>."
     ]
    },
    {
     "cell_type": "code",
     "collapsed": false,
     "input": [],
     "language": "python",
     "metadata": {},
     "outputs": []
    }
   ],
   "metadata": {}
  }
 ]
}