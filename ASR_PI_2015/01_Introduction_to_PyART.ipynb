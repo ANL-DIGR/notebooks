{
 "metadata": {
  "celltoolbar": "Slideshow",
  "name": "",
  "signature": "sha256:d8172650074c4609685e7c3ff5c40676e7b46bf42f0024e564622dc75fc0385c"
 },
 "nbformat": 3,
 "nbformat_minor": 0,
 "worksheets": [
  {
   "cells": [
    {
     "cell_type": "markdown",
     "metadata": {
      "slideshow": {
       "slide_type": "notes"
      }
     },
     "source": [
      "#To run the slideshow:\n",
      "ipython nbconvert 01_Introduction_to_PyART.ipynb --to slides --post serve"
     ]
    },
    {
     "cell_type": "markdown",
     "metadata": {
      "slideshow": {
       "slide_type": "slide"
      }
     },
     "source": [
      "\n",
      "<center>\n",
      "<h1 class=\"title\">PyART, Python ARM Radar Toolkit</h1>\n",
      "\n",
      "<h2>Jonathan J. Helmus and Scott Collis</h2>\n",
      "\n",
      "<div>\n",
      "    <img class=\"logo\" src=\"images/argonne_logo.png\" height=\"100\" width=\"250\"/>\n",
      "</div>\n",
      "\n",
      "<div>\n",
      "    <img class=\"logo\" src=\"images/python-logo.png\" height=\"100\" width=\"250\" align=\"left\"/>\n",
      "    <img class=\"logo\" src=\"images/arm_logo.png\" height=\"100\" width=\"250\" align=\"right\"/>\n",
      "</div>\n",
      "\n",
      "<h3>2015 ARM/ASR PI Meeting</h3>\n",
      "<h3>Wednesday, March 18, 2015</h3>\n",
      "</center>"
     ]
    },
    {
     "cell_type": "markdown",
     "metadata": {
      "slideshow": {
       "slide_type": "slide"
      }
     },
     "source": [
      "## If you have not already:\n",
      "\n",
      "1. Download and install the Anaconda Scientific Python Distribution\n",
      "    * Available on circulating flash drives.\n",
      "    * Google search for \"Anaconda Python\", follow first link.\n",
      "    * http://continuum.io/downloads\n",
      "2. Install Py-ART\n",
      "    * Open a terminal or shell (Run **cmd** on Windows).\n",
      "    * Use the command: **conda install -c jjhelmus pyart**\n",
      "    * Answer y[es] to any prompts to install software.\n",
      "3. Get the course materials.\n",
      "    * Available in the **PyART_Tutorial** directory on the flash drives.\n",
      "    * Download and unpack zip file from [engineering.arm.gov/~jhelmus/2015_asr_meeting/](https://engineering.arm.gov/~jhelmus/2015_asr_meeting/).\n",
      "    \n",
      "These instructions can also be found at: [bit.ly/pyart2015](http://bit.ly/pyart2015)"
     ]
    },
    {
     "cell_type": "markdown",
     "metadata": {
      "slideshow": {
       "slide_type": "slide"
      }
     },
     "source": [
      "## What is Py-ART?\n",
      "\n",
      "The Python ARM Radar Toolkit or Py-ART:\n",
      "\n",
      "* Py-ART is a Python module for plotting, correcting and analyzing weather radar data.\n",
      "* Developement began to address the needs of ARM with the acquisition of a number of new scanning cloud and precipitation radar as part of the American Recovery Act.\n",
      "* The project has since expanded to work with a variery of weather radars and a wider user base including radar researchers and climate modelers.\n",
      "* The software has been [released on GitHub](https://github.com/ARM-DOE/pyart) as open source software under a BSD license.\n",
      "* Runs on Linux, OS X and Windows.\n",
      "* Contributions from others are always welcome."
     ]
    },
    {
     "cell_type": "markdown",
     "metadata": {
      "slideshow": {
       "slide_type": "slide"
      }
     },
     "source": [
      "## What can Py-ART do?\n",
      "\n",
      "Py-ART can be used for a variety of tasks  from basic plotting to more complex processing pipelines.  Specific uses for Py-ART include:\n",
      "\n",
      "* Reading radar data in a variety of file formats.\n",
      "* Creating plots and visualization of radar data.\n",
      "* Correcting radar moments while in antenna coordinates.\n",
      "    * Doppler unfolding/de-aliasing.\n",
      "    * Attenuation correction.\n",
      "    * Phase processing using a Linear Programming method.\n",
      "* Mapping data from one or multiple radars onto a Cartesian grid.\n",
      "* Performing retrivals on this mapped data or on the original radial data.\n",
      "* Writing radial and Cartesian data to NetCDF files."
     ]
    },
    {
     "cell_type": "markdown",
     "metadata": {
      "slideshow": {
       "slide_type": "slide"
      }
     },
     "source": [
      "## What Py-ART is not.\n",
      "\n",
      "* Py-ART is **NOT** a real-time operations radar system.  Other open source software (BALTRAD) does a much better job at this.\n",
      "* Py-ART does not have all the latest and greatest correction and retrival algorithms.\n",
      "    * But we would be happy to help you add your favorite.\n",
      "* Py-ART is not the only open source radar software out there.\n",
      "    * [wradlib](http://wradlib.bitbucket.org/) : Open Source Library for   Weather Radar Data Processing.\n",
      "    * [BALTRAD](http://baltrad.eu/) : Software running a real time  operations radar network. \n",
      "    * [RadX](http://www.ral.ucar.edu/projects/titan/docs/radial_formats/radx.html) : NCAR software for converting between radar data formats. \n",
      "    * [TRMM Radar Software Library (RSL)](http://trmm-fc.gsfc.nasa.gov/trmm_gv/software/rsl/) : Library from NASA for open-oriented access to Radar files in C. \n",
      "    * We are collaborating with a number of these packages."
     ]
    },
    {
     "cell_type": "markdown",
     "metadata": {
      "slideshow": {
       "slide_type": "slide"
      }
     },
     "source": [
      "## Py-ART essentials links\n",
      "\n",
      "* Landing page, [arm-doe.github.io/pyart/](http://arm-doe.github.io/pyart/)\n",
      "* Documentation, [arm-doe.github.io/pyart-docs-travis/](http://arm-doe.github.io/pyart-docs-travis/)\n",
      "* Examples, [arm-doe.github.io/pyart/dev/auto_examples/index.html](http://arm-doe.github.io/pyart/dev/auto_examples/index.html)\n",
      "* Source Code, [github.com/ARM-DOE/pyart](https://github.com/ARM-DOE/pyart)\n",
      "* Mailing list, [groups.google.com/group/pyart-users/](http://groups.google.com/group/pyart-users/)\n",
      "* Issue Tracker, [github.com/ARM-DOE/pyart/issues](https://github.com/ARM-DOE/pyart/issues)\n",
      "* This course, [github.com/ARM-DOE/notebooks/tree/master/ASR_PI_2015](https://github.com/ARM-DOE/notebooks/tree/master/ASR_PI_2015)"
     ]
    },
    {
     "cell_type": "markdown",
     "metadata": {
      "slideshow": {
       "slide_type": "slide"
      }
     },
     "source": [
      "# Outline of remainder of this tutorial.\n",
      "\n",
      "<!-- Jonathan -->\n",
      "* Introduction to IPython. \n",
      "* Reading files with Py-ART and the Radar class.\n",
      "* Plotting radar data using Py-ART.\n",
      "* Using Py-ART to correct folded Doppler velocities in radar data.\n",
      "<!--- Scott --->\n",
      "* Py-ART with big data."
     ]
    },
    {
     "cell_type": "markdown",
     "metadata": {
      "slideshow": {
       "slide_type": "slide"
      }
     },
     "source": [
      "# Lets get started!\n",
      "\n",
      "1. Install Anaconda.\n",
      "2. Install Py-ART.\n",
      "    * Open a terminal/shell (Run **cmd** on Windows).\n",
      "    * Type **conda install -c jjhelmus pyart**.\n",
      "3. Get the course materials.\n",
      "    * Available on the flash drive.\n",
      "    * Download and unpack from [engineering.arm.gov/~jhelmus/2015_asr_meeting/](https://engineering.arm.gov/~jhelmus/2015_asr_meeting/).\n",
      "4. Start an IPython notebook.\n",
      "    * From a terminal/shell type **ipython notebook**.\n",
      "    * Click on the **IPython Notebook** launcher.\n",
      "5. Navigate to the course materials directory.\n",
      "6. Start the **00_TEST.ipynb** notebook by clicking on it.\n",
      "    * Click on the second cell, hit ctrl+enter, check the results.\n",
      "7. If everything is working, load the **02_Introduction_to_IPython.ipynb** notebook.\n",
      "\n",
      "If you run into issues, call one of us over and we will help.  If all else fails, share with a neighbor or follow along with the online Notebooks at [bit.ly/pyart2015](http://bit.ly/pyart2015)"
     ]
    },
    {
     "cell_type": "code",
     "collapsed": false,
     "input": [],
     "language": "python",
     "metadata": {},
     "outputs": []
    }
   ],
   "metadata": {}
  }
 ]
}