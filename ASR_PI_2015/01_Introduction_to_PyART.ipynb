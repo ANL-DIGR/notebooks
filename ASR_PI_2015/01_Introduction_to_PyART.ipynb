{
 "metadata": {
  "celltoolbar": "Slideshow",
  "name": "",
  "signature": "sha256:c5f60cf7700cb42887cbaf870edb76387cfc0f2916d78a2c3fea614a79bc5869"
 },
 "nbformat": 3,
 "nbformat_minor": 0,
 "worksheets": [
  {
   "cells": [
    {
     "cell_type": "markdown",
     "metadata": {
      "slideshow": {
       "slide_type": "skip"
      }
     },
     "source": [
      "#To run the slideshow:\n",
      "ipython nbconvert 01_Introduction_to_PyART.ipynb --to slides --post serve"
     ]
    },
    {
     "cell_type": "markdown",
     "metadata": {
      "slideshow": {
       "slide_type": "slide"
      }
     },
     "source": [
      "## PyART, Python ARM Radar Toolkit \n",
      "# Jonathan J. Helmus and Scott Collis\n",
      "Argonne National Laboratory\n",
      "\n",
      "2015 ARM/ASR PI Meeting\n",
      "\n",
      "Wednesday March 18, 2015"
     ]
    },
    {
     "cell_type": "markdown",
     "metadata": {
      "slideshow": {
       "slide_type": "slide"
      }
     },
     "source": [
      "## If you have not already:\n",
      "\n",
      "1. Download and install the Anaconda Scientific Python Distribution\n",
      "    * Available on ciculating flash drives.\n",
      "    * Google search for \"Anaconda Python\", follow first link.\n",
      "    * https://store.continuum.io/cshop/anaconda/\n",
      "    \n",
      "2. Install Py-ART\n",
      "    * Open a terminal or shell (Run **cmd** on Windows).\n",
      "    * Use the command: **conda install -c jjhelmus pyart**\n",
      "\n",
      "3. Get the course materials.\n",
      "    * Available in the **PyART_Tutorial** directory on flash drive.\n",
      "    * Download and unpack zip file from XXX.\n",
      "    \n",
      "These instructions can also be found at: XXX"
     ]
    },
    {
     "cell_type": "markdown",
     "metadata": {
      "slideshow": {
       "slide_type": "slide"
      }
     },
     "source": [
      "## What is Py-ART?\n",
      "\n",
      "The Python ARM Radar Toolkit or Py-ART is:\n",
      "\n",
      "* An Open Source Python module "
     ]
    },
    {
     "cell_type": "markdown",
     "metadata": {
      "slideshow": {
       "slide_type": "slide"
      }
     },
     "source": [
      "## What can Py-ART do?"
     ]
    },
    {
     "cell_type": "markdown",
     "metadata": {
      "slideshow": {
       "slide_type": "slide"
      }
     },
     "source": [
      "## What Py-ART is not."
     ]
    },
    {
     "cell_type": "markdown",
     "metadata": {
      "slideshow": {
       "slide_type": "slide"
      }
     },
     "source": [
      "## Py-ART essentials links\n",
      "\n",
      "* Landing page (http://arm-doe.github.io/pyart/)\n",
      "* Documentation (http://arm-doe.github.io/pyart-docs-travis/)\n",
      "* Examples (http://arm-doe.github.io/pyart/dev/auto_examples/index.html)\n",
      "* Source Code (https://github.com/ARM-DOE/pyart)\n",
      "* Mailing list (http://groups.google.com/group/pyart-users/)\n",
      "* Issue Tracker (https://github.com/ARM-DOE/pyart/issues)\n",
      "* This course (XXX)"
     ]
    },
    {
     "cell_type": "markdown",
     "metadata": {
      "slideshow": {
       "slide_type": "slide"
      }
     },
     "source": [
      "# Outline of remainder of this tutorial.\n",
      "\n",
      "<!-- Jonathan -->\n",
      "* Introduction to IPython. \n",
      "* Reading files with Py-ART and the Radar class.\n",
      "* Plotting radar data using Py-ART.\n",
      "* Using Py-ART to analyze and correct issue with radar data.\n",
      "\n",
      "<!--- Scott --->\n",
      "* Py-ART with big data."
     ]
    },
    {
     "cell_type": "markdown",
     "metadata": {},
     "source": [
      "# Lets get started!\n",
      "\n",
      "1. Install Anaconda.\n",
      "2. Install Py-ART.\n",
      "3. Get the course materials.\n",
      "4. Start an IPython notebook.\n",
      "    * From a terminal/shell type **ipython notebook**.\n",
      "    * Click on the **IPython Notebook** launcher.\n",
      "5. Navigate to the course materials directory.\n",
      "6. Start the **00_TEST.ipynb** notebook by clicking on it.  \n",
      "    * Click on the second cell, hit ctrl+enter, check the results.\n",
      "7. If everything is working, load the **02_Introduction_to_IPython.ipynb** notebook.\n",
      "\n",
      "If you have issues call one of us over and we will help."
     ]
    },
    {
     "cell_type": "code",
     "collapsed": false,
     "input": [],
     "language": "python",
     "metadata": {},
     "outputs": []
    }
   ],
   "metadata": {}
  }
 ]
}