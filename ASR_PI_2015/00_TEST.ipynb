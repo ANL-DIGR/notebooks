{
 "metadata": {
  "name": "",
  "signature": "sha256:9960043f72161f3df9c93c9b6b22cf8e0f35b5a9330a80f1ee082190a7453c4e"
 },
 "nbformat": 3,
 "nbformat_minor": 0,
 "worksheets": [
  {
   "cells": [
    {
     "cell_type": "markdown",
     "metadata": {},
     "source": [
      "This notebook will test your system to check if Anaconda and Py-ART have been installed correctly.  Select the cell below and execute by hitting ctrl+enter.  If **Ready to go** is printed on the last line everything is installed correctly and you can open up the **02_Introduction_to_IPython.ipynb** notebook.  If **ISSUES** is printed or you get an error something is mis-configured with your system, ask one of the instructors for help."
     ]
    },
    {
     "cell_type": "code",
     "collapsed": false,
     "input": [
      "import warnings\n",
      "with warnings.catch_warnings():\n",
      "    warnings.simplefilter(\"ignore\")\n",
      "    import pyart\n",
      "\n",
      "pyart._debug_info()\n",
      "print \"\"\n",
      "if pyart.__version__ == \"1.3.0\":\n",
      "    print \"Ready to go\"\n",
      "else:\n",
      "    print \"ISSUES\""
     ],
     "language": "python",
     "metadata": {},
     "outputs": []
    }
   ],
   "metadata": {}
  }
 ]
}